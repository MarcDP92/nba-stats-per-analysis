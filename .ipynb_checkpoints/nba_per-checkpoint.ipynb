{
 "cells": [
  {
   "cell_type": "markdown",
   "id": "4f579483-9ea3-41fa-9bb3-f6a592f099a4",
   "metadata": {},
   "source": [
    "## Project Overview - PER (Player Efficiency Rating)"
   ]
  },
  {
   "cell_type": "markdown",
   "id": "42c31500-e891-474e-90ea-09aac3b24263",
   "metadata": {},
   "source": [
    "In the NBA, \"PER\" stands for Player Efficiency Rating, a statistic developed by John Hollinger that measures a player's per-minute contribution by summing positive accomplishments (like points, assists, rebounds, steals, and blocks) and subtracting negative ones (missed shots, turnovers, and fouls). A league-average PER is always 15.00, allowing for year-to-year and cross-era comparisons, with higher scores indicating greater efficiency."
   ]
  },
  {
   "cell_type": "markdown",
   "id": "93c52d76-1ed3-4ef2-92e1-e6a46dd5b21b",
   "metadata": {},
   "source": [
    "## Libraries"
   ]
  },
  {
   "cell_type": "code",
   "execution_count": 15,
   "id": "8c416c02-705d-4a4c-8c24-6e4f3a13b664",
   "metadata": {},
   "outputs": [],
   "source": [
    "from nba_api.stats.endpoints import playergamelog, leaguegamefinder\n",
    "from nba_api.stats.static import players, teams\n",
    "from nba_api.stats.endpoints import playerdashboardbyyearoveryear\n",
    "from nba_api.stats.endpoints import leaguedashplayerstats\n",
    "import pandas as pd\n",
    "import matplotlib.pyplot as plt\n",
    "import seaborn as sns"
   ]
  },
  {
   "cell_type": "markdown",
   "id": "2981da14-426d-44d0-be50-f7b934deb932",
   "metadata": {},
   "source": [
    "## Data Extraction"
   ]
  },
  {
   "cell_type": "code",
   "execution_count": 2,
   "id": "005dc9c5-2052-4303-8efd-028259257191",
   "metadata": {},
   "outputs": [],
   "source": [
    "# Get 2024-25 season player stats\n",
    "player_stats = leaguedashplayerstats.LeagueDashPlayerStats(season='2024-25')\n",
    "df = player_stats.get_data_frames()[0]"
   ]
  },
  {
   "cell_type": "code",
   "execution_count": 3,
   "id": "2da223c5-2eb7-4f79-96e9-84a059b68e18",
   "metadata": {},
   "outputs": [
    {
     "name": "stdout",
     "output_type": "stream",
     "text": [
      "['PLAYER_ID', 'PLAYER_NAME', 'NICKNAME', 'TEAM_ID', 'TEAM_ABBREVIATION', 'AGE', 'GP', 'W', 'L', 'W_PCT', 'MIN', 'FGM', 'FGA', 'FG_PCT', 'FG3M', 'FG3A', 'FG3_PCT', 'FTM', 'FTA', 'FT_PCT', 'OREB', 'DREB', 'REB', 'AST', 'TOV', 'STL', 'BLK', 'BLKA', 'PF', 'PFD', 'PTS', 'PLUS_MINUS', 'NBA_FANTASY_PTS', 'DD2', 'TD3', 'WNBA_FANTASY_PTS', 'GP_RANK', 'W_RANK', 'L_RANK', 'W_PCT_RANK', 'MIN_RANK', 'FGM_RANK', 'FGA_RANK', 'FG_PCT_RANK', 'FG3M_RANK', 'FG3A_RANK', 'FG3_PCT_RANK', 'FTM_RANK', 'FTA_RANK', 'FT_PCT_RANK', 'OREB_RANK', 'DREB_RANK', 'REB_RANK', 'AST_RANK', 'TOV_RANK', 'STL_RANK', 'BLK_RANK', 'BLKA_RANK', 'PF_RANK', 'PFD_RANK', 'PTS_RANK', 'PLUS_MINUS_RANK', 'NBA_FANTASY_PTS_RANK', 'DD2_RANK', 'TD3_RANK', 'WNBA_FANTASY_PTS_RANK', 'TEAM_COUNT']\n",
      "   PLAYER_ID    PLAYER_NAME NICKNAME     TEAM_ID TEAM_ABBREVIATION   AGE  GP  \\\n",
      "0    1630639    A.J. Lawson     A.J.  1610612761               TOR  24.0  26   \n",
      "1    1631260       AJ Green       AJ  1610612749               MIL  25.0  73   \n",
      "2    1642358     AJ Johnson       AJ  1610612764               WAS  20.0  29   \n",
      "3     203932   Aaron Gordon    Aaron  1610612743               DEN  29.0  51   \n",
      "4    1628988  Aaron Holiday    Aaron  1610612745               HOU  28.0  62   \n",
      "\n",
      "    W   L  W_PCT  ...  BLKA_RANK  PF_RANK  PFD_RANK  PTS_RANK  \\\n",
      "0  14  12  0.538  ...        241      200       327       337   \n",
      "1  44  29  0.603  ...         99      498       290       214   \n",
      "2   8  21  0.276  ...        312      217       369       347   \n",
      "3  33  18  0.647  ...        451      301       107       139   \n",
      "4  39  23  0.629  ...        224      259       292       292   \n",
      "\n",
      "   PLUS_MINUS_RANK  NBA_FANTASY_PTS_RANK  DD2_RANK  TD3_RANK  \\\n",
      "0              299                   375       159        44   \n",
      "1               62                   247       281        44   \n",
      "2              495                   379       281        44   \n",
      "3               41                   183       134        44   \n",
      "4              115                   322       281        44   \n",
      "\n",
      "   WNBA_FANTASY_PTS_RANK  TEAM_COUNT  \n",
      "0                    364           1  \n",
      "1                    225           1  \n",
      "2                    372           2  \n",
      "3                    181           1  \n",
      "4                    315           1  \n",
      "\n",
      "[5 rows x 67 columns]\n"
     ]
    }
   ],
   "source": [
    "# Explore what columns you have\n",
    "print(df.columns.tolist())\n",
    "print(df.head())"
   ]
  },
  {
   "cell_type": "code",
   "execution_count": 4,
   "id": "7dffa40b-60bf-47b0-965f-6ff172d9c28a",
   "metadata": {},
   "outputs": [
    {
     "name": "stdout",
     "output_type": "stream",
     "text": [
      "<class 'pandas.core.frame.DataFrame'>\n",
      "RangeIndex: 569 entries, 0 to 568\n",
      "Data columns (total 67 columns):\n",
      " #   Column                 Non-Null Count  Dtype  \n",
      "---  ------                 --------------  -----  \n",
      " 0   PLAYER_ID              569 non-null    int64  \n",
      " 1   PLAYER_NAME            569 non-null    object \n",
      " 2   NICKNAME               569 non-null    object \n",
      " 3   TEAM_ID                569 non-null    int64  \n",
      " 4   TEAM_ABBREVIATION      569 non-null    object \n",
      " 5   AGE                    569 non-null    float64\n",
      " 6   GP                     569 non-null    int64  \n",
      " 7   W                      569 non-null    int64  \n",
      " 8   L                      569 non-null    int64  \n",
      " 9   W_PCT                  569 non-null    float64\n",
      " 10  MIN                    569 non-null    float64\n",
      " 11  FGM                    569 non-null    int64  \n",
      " 12  FGA                    569 non-null    int64  \n",
      " 13  FG_PCT                 569 non-null    float64\n",
      " 14  FG3M                   569 non-null    int64  \n",
      " 15  FG3A                   569 non-null    int64  \n",
      " 16  FG3_PCT                569 non-null    float64\n",
      " 17  FTM                    569 non-null    int64  \n",
      " 18  FTA                    569 non-null    int64  \n",
      " 19  FT_PCT                 569 non-null    float64\n",
      " 20  OREB                   569 non-null    int64  \n",
      " 21  DREB                   569 non-null    int64  \n",
      " 22  REB                    569 non-null    int64  \n",
      " 23  AST                    569 non-null    int64  \n",
      " 24  TOV                    569 non-null    int64  \n",
      " 25  STL                    569 non-null    int64  \n",
      " 26  BLK                    569 non-null    int64  \n",
      " 27  BLKA                   569 non-null    int64  \n",
      " 28  PF                     569 non-null    int64  \n",
      " 29  PFD                    569 non-null    int64  \n",
      " 30  PTS                    569 non-null    int64  \n",
      " 31  PLUS_MINUS             569 non-null    int64  \n",
      " 32  NBA_FANTASY_PTS        569 non-null    float64\n",
      " 33  DD2                    569 non-null    int64  \n",
      " 34  TD3                    569 non-null    int64  \n",
      " 35  WNBA_FANTASY_PTS       569 non-null    float64\n",
      " 36  GP_RANK                569 non-null    int64  \n",
      " 37  W_RANK                 569 non-null    int64  \n",
      " 38  L_RANK                 569 non-null    int64  \n",
      " 39  W_PCT_RANK             569 non-null    int64  \n",
      " 40  MIN_RANK               569 non-null    int64  \n",
      " 41  FGM_RANK               569 non-null    int64  \n",
      " 42  FGA_RANK               569 non-null    int64  \n",
      " 43  FG_PCT_RANK            569 non-null    int64  \n",
      " 44  FG3M_RANK              569 non-null    int64  \n",
      " 45  FG3A_RANK              569 non-null    int64  \n",
      " 46  FG3_PCT_RANK           569 non-null    int64  \n",
      " 47  FTM_RANK               569 non-null    int64  \n",
      " 48  FTA_RANK               569 non-null    int64  \n",
      " 49  FT_PCT_RANK            569 non-null    int64  \n",
      " 50  OREB_RANK              569 non-null    int64  \n",
      " 51  DREB_RANK              569 non-null    int64  \n",
      " 52  REB_RANK               569 non-null    int64  \n",
      " 53  AST_RANK               569 non-null    int64  \n",
      " 54  TOV_RANK               569 non-null    int64  \n",
      " 55  STL_RANK               569 non-null    int64  \n",
      " 56  BLK_RANK               569 non-null    int64  \n",
      " 57  BLKA_RANK              569 non-null    int64  \n",
      " 58  PF_RANK                569 non-null    int64  \n",
      " 59  PFD_RANK               569 non-null    int64  \n",
      " 60  PTS_RANK               569 non-null    int64  \n",
      " 61  PLUS_MINUS_RANK        569 non-null    int64  \n",
      " 62  NBA_FANTASY_PTS_RANK   569 non-null    int64  \n",
      " 63  DD2_RANK               569 non-null    int64  \n",
      " 64  TD3_RANK               569 non-null    int64  \n",
      " 65  WNBA_FANTASY_PTS_RANK  569 non-null    int64  \n",
      " 66  TEAM_COUNT             569 non-null    int64  \n",
      "dtypes: float64(8), int64(56), object(3)\n",
      "memory usage: 298.0+ KB\n"
     ]
    }
   ],
   "source": [
    "df.info()"
   ]
  },
  {
   "cell_type": "code",
   "execution_count": 5,
   "id": "c7afcbcc-af7e-410d-8e32-26f35e6ff49b",
   "metadata": {},
   "outputs": [
    {
     "data": {
      "text/html": [
       "<div>\n",
       "<style scoped>\n",
       "    .dataframe tbody tr th:only-of-type {\n",
       "        vertical-align: middle;\n",
       "    }\n",
       "\n",
       "    .dataframe tbody tr th {\n",
       "        vertical-align: top;\n",
       "    }\n",
       "\n",
       "    .dataframe thead th {\n",
       "        text-align: right;\n",
       "    }\n",
       "</style>\n",
       "<table border=\"1\" class=\"dataframe\">\n",
       "  <thead>\n",
       "    <tr style=\"text-align: right;\">\n",
       "      <th></th>\n",
       "      <th>PLAYER_ID</th>\n",
       "      <th>TEAM_ID</th>\n",
       "      <th>AGE</th>\n",
       "      <th>GP</th>\n",
       "      <th>W</th>\n",
       "      <th>L</th>\n",
       "      <th>W_PCT</th>\n",
       "      <th>MIN</th>\n",
       "      <th>FGM</th>\n",
       "      <th>FGA</th>\n",
       "      <th>...</th>\n",
       "      <th>BLKA_RANK</th>\n",
       "      <th>PF_RANK</th>\n",
       "      <th>PFD_RANK</th>\n",
       "      <th>PTS_RANK</th>\n",
       "      <th>PLUS_MINUS_RANK</th>\n",
       "      <th>NBA_FANTASY_PTS_RANK</th>\n",
       "      <th>DD2_RANK</th>\n",
       "      <th>TD3_RANK</th>\n",
       "      <th>WNBA_FANTASY_PTS_RANK</th>\n",
       "      <th>TEAM_COUNT</th>\n",
       "    </tr>\n",
       "  </thead>\n",
       "  <tbody>\n",
       "    <tr>\n",
       "      <th>count</th>\n",
       "      <td>5.690000e+02</td>\n",
       "      <td>5.690000e+02</td>\n",
       "      <td>569.000000</td>\n",
       "      <td>569.000000</td>\n",
       "      <td>569.000000</td>\n",
       "      <td>569.000000</td>\n",
       "      <td>569.000000</td>\n",
       "      <td>569.000000</td>\n",
       "      <td>569.000000</td>\n",
       "      <td>569.000000</td>\n",
       "      <td>...</td>\n",
       "      <td>569.000000</td>\n",
       "      <td>569.000000</td>\n",
       "      <td>569.000000</td>\n",
       "      <td>569.000000</td>\n",
       "      <td>569.000000</td>\n",
       "      <td>569.000000</td>\n",
       "      <td>569.000000</td>\n",
       "      <td>569.000000</td>\n",
       "      <td>569.000000</td>\n",
       "      <td>569.000000</td>\n",
       "    </tr>\n",
       "    <tr>\n",
       "      <th>mean</th>\n",
       "      <td>1.434007e+06</td>\n",
       "      <td>1.610613e+09</td>\n",
       "      <td>26.230228</td>\n",
       "      <td>46.231986</td>\n",
       "      <td>23.235501</td>\n",
       "      <td>22.996485</td>\n",
       "      <td>0.486895</td>\n",
       "      <td>1043.233743</td>\n",
       "      <td>180.256591</td>\n",
       "      <td>385.811951</td>\n",
       "      <td>...</td>\n",
       "      <td>277.785589</td>\n",
       "      <td>283.205624</td>\n",
       "      <td>282.683656</td>\n",
       "      <td>284.613357</td>\n",
       "      <td>284.300527</td>\n",
       "      <td>284.991213</td>\n",
       "      <td>203.226714</td>\n",
       "      <td>41.818981</td>\n",
       "      <td>284.827768</td>\n",
       "      <td>1.149385</td>\n",
       "    </tr>\n",
       "    <tr>\n",
       "      <th>std</th>\n",
       "      <td>4.963906e+05</td>\n",
       "      <td>8.626873e+00</td>\n",
       "      <td>4.220348</td>\n",
       "      <td>24.357135</td>\n",
       "      <td>15.596499</td>\n",
       "      <td>13.985404</td>\n",
       "      <td>0.202094</td>\n",
       "      <td>805.522063</td>\n",
       "      <td>171.087792</td>\n",
       "      <td>357.219330</td>\n",
       "      <td>...</td>\n",
       "      <td>169.713086</td>\n",
       "      <td>165.164946</td>\n",
       "      <td>162.283979</td>\n",
       "      <td>164.058963</td>\n",
       "      <td>164.421573</td>\n",
       "      <td>164.387815</td>\n",
       "      <td>91.113184</td>\n",
       "      <td>7.828527</td>\n",
       "      <td>164.253792</td>\n",
       "      <td>0.376002</td>\n",
       "    </tr>\n",
       "    <tr>\n",
       "      <th>min</th>\n",
       "      <td>2.544000e+03</td>\n",
       "      <td>1.610613e+09</td>\n",
       "      <td>19.000000</td>\n",
       "      <td>1.000000</td>\n",
       "      <td>0.000000</td>\n",
       "      <td>0.000000</td>\n",
       "      <td>0.000000</td>\n",
       "      <td>2.601667</td>\n",
       "      <td>0.000000</td>\n",
       "      <td>0.000000</td>\n",
       "      <td>...</td>\n",
       "      <td>1.000000</td>\n",
       "      <td>1.000000</td>\n",
       "      <td>1.000000</td>\n",
       "      <td>1.000000</td>\n",
       "      <td>1.000000</td>\n",
       "      <td>1.000000</td>\n",
       "      <td>1.000000</td>\n",
       "      <td>1.000000</td>\n",
       "      <td>1.000000</td>\n",
       "      <td>1.000000</td>\n",
       "    </tr>\n",
       "    <tr>\n",
       "      <th>25%</th>\n",
       "      <td>1.628415e+06</td>\n",
       "      <td>1.610613e+09</td>\n",
       "      <td>23.000000</td>\n",
       "      <td>25.000000</td>\n",
       "      <td>10.000000</td>\n",
       "      <td>11.000000</td>\n",
       "      <td>0.355000</td>\n",
       "      <td>314.276667</td>\n",
       "      <td>40.000000</td>\n",
       "      <td>90.000000</td>\n",
       "      <td>...</td>\n",
       "      <td>141.000000</td>\n",
       "      <td>142.000000</td>\n",
       "      <td>142.000000</td>\n",
       "      <td>143.000000</td>\n",
       "      <td>143.000000</td>\n",
       "      <td>143.000000</td>\n",
       "      <td>134.000000</td>\n",
       "      <td>44.000000</td>\n",
       "      <td>143.000000</td>\n",
       "      <td>1.000000</td>\n",
       "    </tr>\n",
       "    <tr>\n",
       "      <th>50%</th>\n",
       "      <td>1.630288e+06</td>\n",
       "      <td>1.610613e+09</td>\n",
       "      <td>25.000000</td>\n",
       "      <td>50.000000</td>\n",
       "      <td>21.000000</td>\n",
       "      <td>23.000000</td>\n",
       "      <td>0.500000</td>\n",
       "      <td>907.458333</td>\n",
       "      <td>133.000000</td>\n",
       "      <td>287.000000</td>\n",
       "      <td>...</td>\n",
       "      <td>284.000000</td>\n",
       "      <td>282.000000</td>\n",
       "      <td>281.000000</td>\n",
       "      <td>284.000000</td>\n",
       "      <td>283.000000</td>\n",
       "      <td>285.000000</td>\n",
       "      <td>281.000000</td>\n",
       "      <td>44.000000</td>\n",
       "      <td>285.000000</td>\n",
       "      <td>1.000000</td>\n",
       "    </tr>\n",
       "    <tr>\n",
       "      <th>75%</th>\n",
       "      <td>1.631301e+06</td>\n",
       "      <td>1.610613e+09</td>\n",
       "      <td>29.000000</td>\n",
       "      <td>68.000000</td>\n",
       "      <td>36.000000</td>\n",
       "      <td>32.000000</td>\n",
       "      <td>0.618000</td>\n",
       "      <td>1716.348333</td>\n",
       "      <td>271.000000</td>\n",
       "      <td>579.000000</td>\n",
       "      <td>...</td>\n",
       "      <td>422.000000</td>\n",
       "      <td>425.000000</td>\n",
       "      <td>426.000000</td>\n",
       "      <td>427.000000</td>\n",
       "      <td>427.000000</td>\n",
       "      <td>427.000000</td>\n",
       "      <td>281.000000</td>\n",
       "      <td>44.000000</td>\n",
       "      <td>427.000000</td>\n",
       "      <td>1.000000</td>\n",
       "    </tr>\n",
       "    <tr>\n",
       "      <th>max</th>\n",
       "      <td>1.642530e+06</td>\n",
       "      <td>1.610613e+09</td>\n",
       "      <td>40.000000</td>\n",
       "      <td>82.000000</td>\n",
       "      <td>64.000000</td>\n",
       "      <td>64.000000</td>\n",
       "      <td>1.000000</td>\n",
       "      <td>3036.076667</td>\n",
       "      <td>860.000000</td>\n",
       "      <td>1656.000000</td>\n",
       "      <td>...</td>\n",
       "      <td>569.000000</td>\n",
       "      <td>569.000000</td>\n",
       "      <td>556.000000</td>\n",
       "      <td>561.000000</td>\n",
       "      <td>569.000000</td>\n",
       "      <td>569.000000</td>\n",
       "      <td>281.000000</td>\n",
       "      <td>44.000000</td>\n",
       "      <td>569.000000</td>\n",
       "      <td>3.000000</td>\n",
       "    </tr>\n",
       "  </tbody>\n",
       "</table>\n",
       "<p>8 rows × 64 columns</p>\n",
       "</div>"
      ],
      "text/plain": [
       "          PLAYER_ID       TEAM_ID         AGE          GP           W  \\\n",
       "count  5.690000e+02  5.690000e+02  569.000000  569.000000  569.000000   \n",
       "mean   1.434007e+06  1.610613e+09   26.230228   46.231986   23.235501   \n",
       "std    4.963906e+05  8.626873e+00    4.220348   24.357135   15.596499   \n",
       "min    2.544000e+03  1.610613e+09   19.000000    1.000000    0.000000   \n",
       "25%    1.628415e+06  1.610613e+09   23.000000   25.000000   10.000000   \n",
       "50%    1.630288e+06  1.610613e+09   25.000000   50.000000   21.000000   \n",
       "75%    1.631301e+06  1.610613e+09   29.000000   68.000000   36.000000   \n",
       "max    1.642530e+06  1.610613e+09   40.000000   82.000000   64.000000   \n",
       "\n",
       "                L       W_PCT          MIN         FGM          FGA  ...  \\\n",
       "count  569.000000  569.000000   569.000000  569.000000   569.000000  ...   \n",
       "mean    22.996485    0.486895  1043.233743  180.256591   385.811951  ...   \n",
       "std     13.985404    0.202094   805.522063  171.087792   357.219330  ...   \n",
       "min      0.000000    0.000000     2.601667    0.000000     0.000000  ...   \n",
       "25%     11.000000    0.355000   314.276667   40.000000    90.000000  ...   \n",
       "50%     23.000000    0.500000   907.458333  133.000000   287.000000  ...   \n",
       "75%     32.000000    0.618000  1716.348333  271.000000   579.000000  ...   \n",
       "max     64.000000    1.000000  3036.076667  860.000000  1656.000000  ...   \n",
       "\n",
       "        BLKA_RANK     PF_RANK    PFD_RANK    PTS_RANK  PLUS_MINUS_RANK  \\\n",
       "count  569.000000  569.000000  569.000000  569.000000       569.000000   \n",
       "mean   277.785589  283.205624  282.683656  284.613357       284.300527   \n",
       "std    169.713086  165.164946  162.283979  164.058963       164.421573   \n",
       "min      1.000000    1.000000    1.000000    1.000000         1.000000   \n",
       "25%    141.000000  142.000000  142.000000  143.000000       143.000000   \n",
       "50%    284.000000  282.000000  281.000000  284.000000       283.000000   \n",
       "75%    422.000000  425.000000  426.000000  427.000000       427.000000   \n",
       "max    569.000000  569.000000  556.000000  561.000000       569.000000   \n",
       "\n",
       "       NBA_FANTASY_PTS_RANK    DD2_RANK    TD3_RANK  WNBA_FANTASY_PTS_RANK  \\\n",
       "count            569.000000  569.000000  569.000000             569.000000   \n",
       "mean             284.991213  203.226714   41.818981             284.827768   \n",
       "std              164.387815   91.113184    7.828527             164.253792   \n",
       "min                1.000000    1.000000    1.000000               1.000000   \n",
       "25%              143.000000  134.000000   44.000000             143.000000   \n",
       "50%              285.000000  281.000000   44.000000             285.000000   \n",
       "75%              427.000000  281.000000   44.000000             427.000000   \n",
       "max              569.000000  281.000000   44.000000             569.000000   \n",
       "\n",
       "       TEAM_COUNT  \n",
       "count  569.000000  \n",
       "mean     1.149385  \n",
       "std      0.376002  \n",
       "min      1.000000  \n",
       "25%      1.000000  \n",
       "50%      1.000000  \n",
       "75%      1.000000  \n",
       "max      3.000000  \n",
       "\n",
       "[8 rows x 64 columns]"
      ]
     },
     "execution_count": 5,
     "metadata": {},
     "output_type": "execute_result"
    }
   ],
   "source": [
    "df.describe()"
   ]
  },
  {
   "cell_type": "code",
   "execution_count": 6,
   "id": "64c9d0eb-97cb-4c08-88df-4fbee9b1fd9a",
   "metadata": {},
   "outputs": [
    {
     "name": "stdout",
     "output_type": "stream",
     "text": [
      "Total missing values: 0\n",
      "Columns with missing data: 0\n",
      "\n",
      "Missing values per column:\n",
      "PLAYER_ID                0\n",
      "PLAYER_NAME              0\n",
      "NICKNAME                 0\n",
      "TEAM_ID                  0\n",
      "TEAM_ABBREVIATION        0\n",
      "                        ..\n",
      "NBA_FANTASY_PTS_RANK     0\n",
      "DD2_RANK                 0\n",
      "TD3_RANK                 0\n",
      "WNBA_FANTASY_PTS_RANK    0\n",
      "TEAM_COUNT               0\n",
      "Length: 67, dtype: int64\n"
     ]
    }
   ],
   "source": [
    "#  Summary on missing data\n",
    "print(f\"Total missing values: {df.isnull().sum().sum()}\")\n",
    "print(f\"Columns with missing data: {df.isnull().any().sum()}\")\n",
    "print(\"\\nMissing values per column:\")\n",
    "print(df.isnull().sum())"
   ]
  },
  {
   "cell_type": "markdown",
   "id": "22722865-38a1-496a-b93e-450b05310336",
   "metadata": {},
   "source": [
    "## Data Cleaning"
   ]
  },
  {
   "cell_type": "markdown",
   "id": "c3637d0f-8232-4051-9c67-c9fdb1d3a4b9",
   "metadata": {},
   "source": [
    "### Remove Player with less than 10 games played"
   ]
  },
  {
   "cell_type": "code",
   "execution_count": 7,
   "id": "99cdb6bb-3733-447e-a94f-0928f3e02427",
   "metadata": {},
   "outputs": [
    {
     "name": "stdout",
     "output_type": "stream",
     "text": [
      "Original players: 569\n",
      "Filtered players: 508\n"
     ]
    }
   ],
   "source": [
    "filtered_df = df[(df['MIN'] >= 10) & (df['GP'] >= 10)].copy()\n",
    "\n",
    "print(f\"Original players: {len(df)}\")\n",
    "print(f\"Filtered players: {len(filtered_df)}\")"
   ]
  },
  {
   "cell_type": "markdown",
   "id": "0d1c6a9c-b9df-4c12-813c-66edb0d8d781",
   "metadata": {},
   "source": [
    "### Remove Non-Useful Attributes"
   ]
  },
  {
   "cell_type": "code",
   "execution_count": 8,
   "id": "ab21c443-bc17-4d32-a3e2-39cdc6e02505",
   "metadata": {},
   "outputs": [
    {
     "name": "stdout",
     "output_type": "stream",
     "text": [
      "Original columns: 67\n",
      "Cleaned columns: 27\n",
      "\n",
      "Remaining columns:\n",
      "['PLAYER_ID', 'PLAYER_NAME', 'GP', 'W', 'L', 'W_PCT', 'MIN', 'FGM', 'FGA', 'FG_PCT', 'FG3M', 'FG3A', 'FG3_PCT', 'FTM', 'FTA', 'FT_PCT', 'OREB', 'DREB', 'REB', 'AST', 'TOV', 'STL', 'BLK', 'BLKA', 'PF', 'PFD', 'PTS']\n"
     ]
    }
   ],
   "source": [
    "# List of columns to remove (all the ranking columns)\n",
    "columns_to_drop = [\n",
    "    'NICKNAME','TEAM_ID', 'TEAM_ABBREVIATION', 'AGE', \n",
    "    'PLUS_MINUS', 'NBA_FANTASY_PTS', 'DD2', 'TD3', 'WNBA_FANTASY_PTS', \n",
    "    'GP_RANK', 'W_RANK', 'L_RANK', 'W_PCT_RANK', 'MIN_RANK', 'FGM_RANK', \n",
    "    'FGA_RANK', 'FG_PCT_RANK', 'FG3M_RANK', 'FG3A_RANK', 'FG3_PCT_RANK', \n",
    "    'FTM_RANK', 'FTA_RANK', 'FT_PCT_RANK', 'OREB_RANK', 'DREB_RANK', \n",
    "    'REB_RANK', 'AST_RANK', 'TOV_RANK', 'STL_RANK', 'BLK_RANK', 'BLKA_RANK', \n",
    "    'PF_RANK', 'PFD_RANK', 'PTS_RANK', 'PLUS_MINUS_RANK', 'NBA_FANTASY_PTS_RANK', \n",
    "    'DD2_RANK', 'TD3_RANK', 'WNBA_FANTASY_PTS_RANK', 'TEAM_COUNT'\n",
    "]\n",
    "\n",
    "# Remove the columns\n",
    "cleaned_df = filtered_df.drop(columns=columns_to_drop, errors='ignore')\n",
    "\n",
    "print(f\"Original columns: {len(filtered_df.columns)}\")\n",
    "print(f\"Cleaned columns: {len(cleaned_df.columns)}\")\n",
    "\n",
    "# Check remaining columns\n",
    "print(\"\\nRemaining columns:\")\n",
    "print(cleaned_df.columns.tolist())"
   ]
  },
  {
   "cell_type": "markdown",
   "id": "3880c3aa-8a91-4d20-90c4-318adc698277",
   "metadata": {},
   "source": [
    "### Add Attributes average per game"
   ]
  },
  {
   "cell_type": "code",
   "execution_count": 17,
   "id": "5011ec1d-bf48-4854-b44b-4469e49f1a20",
   "metadata": {},
   "outputs": [
    {
     "name": "stdout",
     "output_type": "stream",
     "text": [
      "Per-game columns created:\n",
      "['MIN_PG', 'FGM_PG', 'FGA_PG', 'FG3M_PG', 'FG3A_PG', 'FTM_PG', 'FTA_PG', 'OREB_PG', 'DREB_PG', 'REB_PG', 'AST_PG', 'TOV_PG', 'STL_PG', 'BLK_PG', 'PF_PG', 'PTS_PG']\n"
     ]
    }
   ],
   "source": [
    "# Create per-game averages for all counting stats\n",
    "per_game_stats = cleaned_df.copy()\n",
    "\n",
    "# List of stats to convert to per-game\n",
    "counting_stats = ['MIN', 'FGM', 'FGA', 'FG3M', 'FG3A', 'FTM', 'FTA', \n",
    "                 'OREB', 'DREB', 'REB', 'AST', 'TOV', 'STL', 'BLK', 'PF', 'PTS']\n",
    "\n",
    "# Convert to per-game by dividing by games played\n",
    "for stat in counting_stats:\n",
    "    per_game_stats[f'{stat}_PG'] = per_game_stats[stat] / per_game_stats['GP']\n",
    "\n",
    "# Keep percentage stats as they are (already rates)\n",
    "percentage_stats = ['W_PCT', 'FG_PCT', 'FG3_PCT', 'FT_PCT']\n",
    "\n",
    "# Create a dataframe with just the per-game stats for visualization\n",
    "viz_columns = ['PLAYER_NAME', 'GP'] + [f'{stat}_PG' for stat in counting_stats] + percentage_stats\n",
    "viz_df = per_game_stats[viz_columns]\n",
    "\n",
    "print(\"Per-game columns created:\")\n",
    "print([col for col in viz_df.columns if col.endswith('_PG')])"
   ]
  },
  {
   "cell_type": "markdown",
   "id": "c6e71604-dbdb-413c-83f3-ab904d1cb4be",
   "metadata": {},
   "source": [
    "## Data Visualization"
   ]
  },
  {
   "cell_type": "markdown",
   "id": "c3eb09f4-7412-45a7-bfd5-4a4f7f96320e",
   "metadata": {},
   "source": [
    "### Histograms"
   ]
  },
  {
   "cell_type": "code",
   "execution_count": 18,
   "id": "e2bd6bc3-a5be-453b-b5cb-cac40acbee5f",
   "metadata": {},
   "outputs": [
    {
     "data": {
      "image/png": "[encoded data removed]",
      "text/plain": [
       "<Figure size 1500x1000 with 6 Axes>"
      ]
     },
     "metadata": {},
     "output_type": "display_data"
    }
   ],
   "source": [
    "# Visualization with per-game stats\n",
    "fig, axes = plt.subplots(2, 3, figsize=(15, 10))\n",
    "per_game_stats_viz = ['PTS_PG', 'REB_PG', 'AST_PG', 'MIN_PG', 'FG_PCT', 'FG3_PCT']\n",
    "\n",
    "for i, stat in enumerate(per_game_stats_viz):\n",
    "    row, col = i // 3, i % 3\n",
    "    viz_df[stat].hist(bins=20, ax=axes[row, col])\n",
    "    axes[row, col].set_title(f'{stat} Distribution')\n",
    "    axes[row, col].set_xlabel(stat)"
   ]
  },
  {
   "cell_type": "markdown",
   "id": "8edfe6f7-884c-4de4-8cca-07ef78e39820",
   "metadata": {},
   "source": [
    "#### **Key Findings from Per-Game Statistics**\n",
    "\n",
    "##### **Distribution Patterns:**\n",
    "- Most counting stats (points, rebounds, assists) show **right-skewed distributions**\n",
    "- Shooting percentages are more **normally distributed** around league averages\n",
    "- Minutes played shows the most **uniform distribution** across players\n",
    "\n",
    "##### **Scoring Insights:**\n",
    "- Most players average **5-15 PPG**, with elite scorers (20+ PPG) being rare\n",
    "- Peak around **8-10 PPG** reflects typical role player production\n",
    "\n",
    "##### **Rebounding & Assists:**\n",
    "- Rebounding clusters at **2-6 RPG**, showing position-dependent nature\n",
    "- Assists show **extreme concentration** - most players under 3 APG\n",
    "- Elite playmakers (**6+ APG**) are very uncommon\n",
    "\n",
    "##### **Shooting Efficiency:**\n",
    "- **FG%** centers around 45-50% (typical NBA efficiency)\n",
    "- **3P%** shows bimodal pattern: non-shooters (0%) vs. competent shooters (35%)\n",
    "- Reflects modern NBA specialization\n",
    "\n",
    "##### **Playing Time:**\n",
    "- **Evenly distributed**\n",
    "- Suggests varied coaching rotation strategies\n",
    "\n",
    "##### **Implications for PER:**\n",
    "- Right-skewed distributions confirm **scarcity of high production**\n",
    "- Normal shooting distributions help establish **efficiency baselines**\n",
    "- These patterns will contextualize what constitutes **above-average performance**"
   ]
  },
  {
   "cell_type": "markdown",
   "id": "aba730c1-4464-49af-8bf2-bdbfa34254b3",
   "metadata": {},
   "source": [
    "### Boxplots for outlier detection"
   ]
  },
  {
   "cell_type": "code",
   "execution_count": 20,
   "id": "30fc34bd-361f-4206-9b95-258ef65d7c8d",
   "metadata": {},
   "outputs": [
    {
     "data": {
      "text/plain": [
       "Text(0.5, 1.0, 'NBA Stats Box Plots')"
      ]
     },
     "execution_count": 20,
     "metadata": {},
     "output_type": "execute_result"
    },
    {
     "data": {
      "image/png": "[encoded data removed]",
      "text/plain": [
       "<Figure size 1200x600 with 1 Axes>"
      ]
     },
     "metadata": {},
     "output_type": "display_data"
    }
   ],
   "source": [
    "# Box plots to see outliers and quartiles\n",
    "plt.figure(figsize=(12, 6))\n",
    "key_stats = ['PTS_PG', 'REB_PG', 'AST_PG', 'STL_PG', 'BLK_PG', 'TOV_PG']\n",
    "viz_df[key_stats].boxplot()\n",
    "plt.xticks(rotation=45)\n",
    "plt.title('NBA Stats Box Plots')"
   ]
  },
  {
   "cell_type": "markdown",
   "id": "23da917e-bc27-4de4-af92-11beb994a953",
   "metadata": {},
   "source": [
    "### **Key Findings from Box Plot Analysis**\n",
    "\n",
    "#### **Outlier Patterns:**\n",
    "- **PTS_PG** shows the most extreme outliers, with several players scoring 25+ PPG\n",
    "- **AST_PG** has many outliers above 7+ assists, indicating elite playmakers stand out significantly\n",
    "- **STL_PG** and **BLK_PG** show fewer outliers, suggesting defensive stats are more constrained\n",
    "\n",
    "#### **Median Values & Distribution Shape:**\n",
    "- **PTS_PG** median around **8-9 points**, with wide interquartile range\n",
    "- **REB_PG** median around **3-4 rebounds**, showing tight distribution for most players\n",
    "- **AST_PG** has very low median (**~2 assists**), confirming playmaking concentration\n",
    "- **TOV_PG** shows tight distribution with median around **1.5 turnovers**\n",
    "\n",
    "#### **Variability Insights:**\n",
    "- **Scoring** shows the **widest spread**, reflecting diverse offensive roles\n",
    "- **Rebounds** have moderate spread, likely position-dependent\n",
    "- **Assists** show extreme concentration at low values with long tail of outliers\n",
    "- **Steals and blocks** are tightly clustered, showing defensive consistency\n",
    "\n",
    "#### **Statistical Implications:**\n",
    "- Box plots confirm the **right-skewed nature** seen in histograms\n",
    "- **Interquartile ranges** help identify what constitutes above-average performance\n",
    "- **Outliers represent star players** who significantly exceed typical production\n",
    "- These ranges will be useful for **contextualizing PER calculations** and identifying efficiency thresholds\n",
    "\n",
    "#### **Performance Benchmarks:**\n",
    "- Players above **Q3 (75th percentile)** in multiple categories likely represent key contributors\n",
    "- **Outliers** in scoring/assists represent franchise players and primary options"
   ]
  },
  {
   "cell_type": "markdown",
   "id": "4b86f426-6c2f-448e-b745-2c01921d7158",
   "metadata": {},
   "source": [
    "### Correlaion Heatmap"
   ]
  },
  {
   "cell_type": "code",
   "execution_count": null,
   "id": "dbb530c2-a881-466e-9756-66802e946353",
   "metadata": {},
   "outputs": [],
   "source": [
    "# tats for correlation analysis\n",
    "correlation_stats = [\n",
    "    'PTS_PG',      # Points per game\n",
    "    'REB_PG',      # Rebounds per game  \n",
    "    'AST_PG',      # Assists per game\n",
    "    'STL_PG',      # Steals per game\n",
    "    'BLK_PG',      # Blocks per game\n",
    "    'TOV_PG',      # Turnovers per game\n",
    "    'MIN_PG',      # Minutes per game\n",
    "    'FG_PCT',      # Field goal percentage\n",
    "    'FG3_PCT',     # Three-point percentage\n",
    "    'FT_PCT'       # Free throw percentage\n",
    "]\n",
    "\n",
    "plt.figure(figsize=(12, 10))\n",
    "correlation_matrix = viz_df[correlation_stats].corr()\n",
    "sns.heatmap(correlation_matrix, annot=True, cmap='coolwarm', center=0, \n",
    "            fmt='.2f', square=True)\n",
    "plt.title('NBA Per-Game Stats Correlation Matrix')\n",
    "plt.tight_layout()"
   ]
  },
  {
   "cell_type": "markdown",
   "id": "85fd3e9e-4645-4aec-b04a-0c100b188070",
   "metadata": {},
   "source": [
    "## PER Calculation"
   ]
  },
  {
   "cell_type": "code",
   "execution_count": 10,
   "id": "6183c549-6824-4430-b228-122b8a02fe18",
   "metadata": {},
   "outputs": [],
   "source": [
    "# Unadjusted PER calculation\n",
    "def calculate_unadjusted_per(row):\n",
    "    # Positive actions with weights\n",
    "    positive = (\n",
    "        row['PTS'] * 1.0 +                    # Points: 1.0\n",
    "        row['REB'] * 0.7 +                    # Rebounds: 0.7  \n",
    "        row['AST'] * 0.7 +                    # Assists: 0.7\n",
    "        row['STL'] * 1.0 +                    # Steals: 1.0\n",
    "        row['BLK'] * 1.0 +                    # Blocks: 1.0\n",
    "        row['FGM'] * 0.5 +                    # Made FG bonus: 0.5\n",
    "        row['FTM'] * 0.5 -                    # Made FT bonus: 0.5\n",
    "        row['FGA'] * 0.5 -                    # FG attempt penalty: -0.5\n",
    "        row['FTA'] * 0.5                      # FT attempt penalty: -0.5\n",
    "    )\n",
    "    \n",
    "    # Negative actions\n",
    "    negative = (\n",
    "        row['TOV'] * 1.0 +                    # Turnovers: -1.0\n",
    "        (row['FGA'] - row['FGM']) * 0.5 +     # Missed FG: -0.5\n",
    "        (row['FTA'] - row['FTM']) * 0.5       # Missed FT: -0.5\n",
    "    )\n",
    "    \n",
    "    # PER per minute  \n",
    "    if row['MIN'] > 0:\n",
    "        uper = (positive - negative) / row['MIN']\n",
    "        return uper\n",
    "    else:\n",
    "        return 0"
   ]
  },
  {
   "cell_type": "code",
   "execution_count": 11,
   "id": "a7f13433-ca84-443a-8185-e70801b4f8ff",
   "metadata": {},
   "outputs": [],
   "source": [
    "cleaned_df['uPER'] = cleaned_df.apply(calculate_unadjusted_per, axis=1)"
   ]
  },
  {
   "cell_type": "code",
   "execution_count": 12,
   "id": "ad354d1b-c2f8-4484-bd42-362a02b39998",
   "metadata": {},
   "outputs": [
    {
     "data": {
      "text/plain": [
       "0    0.394523\n",
       "1    0.298588\n",
       "2    0.248282\n",
       "3    0.506457\n",
       "4    0.363144\n",
       "Name: uPER, dtype: float64"
      ]
     },
     "execution_count": 12,
     "metadata": {},
     "output_type": "execute_result"
    }
   ],
   "source": [
    "cleaned_df['uPER'].head()"
   ]
  },
  {
   "cell_type": "markdown",
   "id": "892cb4d9-5265-49ec-ae84-bfa49cdedd25",
   "metadata": {},
   "source": [
    "## Data Exploration"
   ]
  },
  {
   "cell_type": "code",
   "execution_count": 13,
   "id": "0822ea05-6b25-408c-9249-700720433630",
   "metadata": {},
   "outputs": [
    {
     "name": "stdout",
     "output_type": "stream",
     "text": [
      "                 PLAYER_NAME      uPER\n",
      "423             Nikola Jokić  0.961037\n",
      "180    Giannis Antetokounmpo  0.887299\n",
      "490  Shai Gilgeous-Alexander  0.866367\n",
      "567          Zion Williamson  0.782128\n",
      "28             Anthony Davis  0.782005\n",
      "550        Victor Wembanyama  0.777081\n",
      "407              Moses Brown  0.752256\n",
      "383            Mark Williams  0.739681\n",
      "115           Daniel Gafford  0.739421\n",
      "314       Karl-Anthony Towns  0.731667\n"
     ]
    }
   ],
   "source": [
    "# Check the top performers\n",
    "top_players = cleaned_df.nlargest(10, 'uPER')[['PLAYER_NAME', 'uPER']]\n",
    "print(top_players)"
   ]
  },
  {
   "cell_type": "code",
   "execution_count": null,
   "id": "6bb1aa39-4158-4574-b99c-56c7806d25c6",
   "metadata": {},
   "outputs": [],
   "source": []
  }
 ],
 "metadata": {
  "kernelspec": {
   "display_name": "Python 3 (ipykernel)",
   "language": "python",
   "name": "python3"
  },
  "language_info": {
   "codemirror_mode": {
    "name": "ipython",
    "version": 3
   },
   "file_extension": ".py",
   "mimetype": "text/x-python",
   "name": "python",
   "nbconvert_exporter": "python",
   "pygments_lexer": "ipython3",
   "version": "3.10.18"
  }
 },
 "nbformat": 4,
 "nbformat_minor": 5
}
